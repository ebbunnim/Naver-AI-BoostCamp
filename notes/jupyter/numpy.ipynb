{
 "cells": [
  {
   "cell_type": "markdown",
   "id": "blessed-meter",
   "metadata": {},
   "source": [
    "# numpy"
   ]
  },
  {
   "cell_type": "code",
   "execution_count": 5,
   "id": "cellular-duncan",
   "metadata": {},
   "outputs": [],
   "source": [
    "import numpy as np\n",
    "test_array=np.array([1,4,5,8],float)"
   ]
  },
  {
   "cell_type": "markdown",
   "id": "surface-liver",
   "metadata": {},
   "source": [
    "* numpy는 **\"하나의 데이터 타입\"**만 배열에 넣을 수 있음.\n",
    "* 리스트와 가장 큰 차이점 : dynamic typing not supported\n",
    "* C의 Array 사용해 배열 생성\n",
    "* numpy는 리스트와 달리 주소가 아니라 값이 메모리에 올라가고, 값들이 차례대로 값이 들어가있다. 따라서, 연산에 효율적. 메모리 접근성도 좋다. "
   ]
  },
  {
   "cell_type": "code",
   "execution_count": 6,
   "id": "golden-status",
   "metadata": {},
   "outputs": [
    {
     "data": {
      "text/plain": [
       "array([1., 4., 5., 7.])"
      ]
     },
     "execution_count": 6,
     "metadata": {},
     "output_type": "execute_result"
    }
   ],
   "source": [
    "test_array=np.array([\"1\",\"4\",5.0,7],float)\n",
    "test_array"
   ]
  },
  {
   "cell_type": "code",
   "execution_count": 5,
   "id": "institutional-helping",
   "metadata": {},
   "outputs": [
    {
     "data": {
      "text/plain": [
       "numpy.float64"
      ]
     },
     "execution_count": 5,
     "metadata": {},
     "output_type": "execute_result"
    }
   ],
   "source": [
    "type(test_array[0])"
   ]
  },
  {
   "cell_type": "code",
   "execution_count": 7,
   "id": "international-playlist",
   "metadata": {},
   "outputs": [
    {
     "data": {
      "text/plain": [
       "True"
      ]
     },
     "execution_count": 7,
     "metadata": {},
     "output_type": "execute_result"
    }
   ],
   "source": [
    "a=[1,2,3,4,5]\n",
    "b=[5,4,3,2,1]\n",
    "a[0] is b[-1] #메모리 주소가 같다."
   ]
  },
  {
   "cell_type": "code",
   "execution_count": 8,
   "id": "unlikely-connecticut",
   "metadata": {},
   "outputs": [
    {
     "data": {
      "text/plain": [
       "False"
      ]
     },
     "execution_count": 8,
     "metadata": {},
     "output_type": "execute_result"
    }
   ],
   "source": [
    "a=np.array(a)\n",
    "b=np.array(b)\n",
    "a[0] is b[-1] #메모리 비교시 false "
   ]
  },
  {
   "cell_type": "code",
   "execution_count": 9,
   "id": "revised-parish",
   "metadata": {},
   "outputs": [
    {
     "data": {
      "text/plain": [
       "24"
      ]
     },
     "execution_count": 9,
     "metadata": {},
     "output_type": "execute_result"
    }
   ],
   "source": [
    "np.array([[1,2,3],[4,\"5\",\"6\"]],dtype=np.float32).nbytes # 메모리 크기 반환"
   ]
  },
  {
   "cell_type": "markdown",
   "id": "expressed-float",
   "metadata": {},
   "source": [
    "## array의 rank에 따라 불리는 이름이 있음\n",
    "0 : scalar (ex) 7\n",
    "\n",
    "1 : vector (ex) [10,10]\n",
    "\n",
    "2 : matrix (ex) [[10,10],[15,15]]\n",
    "\n",
    "3 : 3-tensor (ex) [[[1,5,9],[2,6,10]]]\n",
    "\n",
    "n : n-tensor"
   ]
  },
  {
   "cell_type": "code",
   "execution_count": 11,
   "id": "opposed-swiss",
   "metadata": {},
   "outputs": [],
   "source": [
    "tensor=[\n",
    "    [[1,2,3,4],[1,2,3,4],[1,2,3,4]],\n",
    "    [[1,2,3,4],[1,2,3,4],[1,2,3,4]],\n",
    "    [[1,2,3,4],[1,2,3,4],[1,2,3,4]],\n",
    "    [[1,2,3,4],[1,2,3,4],[1,2,3,4]],\n",
    "]"
   ]
  },
  {
   "cell_type": "code",
   "execution_count": 12,
   "id": "scientific-newton",
   "metadata": {},
   "outputs": [
    {
     "data": {
      "text/plain": [
       "3"
      ]
     },
     "execution_count": 12,
     "metadata": {},
     "output_type": "execute_result"
    }
   ],
   "source": [
    "np.array(tensor,int).ndim"
   ]
  },
  {
   "cell_type": "code",
   "execution_count": 14,
   "id": "animal-thumbnail",
   "metadata": {},
   "outputs": [
    {
     "data": {
      "text/plain": [
       "48"
      ]
     },
     "execution_count": 14,
     "metadata": {},
     "output_type": "execute_result"
    }
   ],
   "source": [
    "np.array(tensor,int).size"
   ]
  },
  {
   "cell_type": "code",
   "execution_count": 16,
   "id": "geographic-workstation",
   "metadata": {},
   "outputs": [
    {
     "data": {
      "text/plain": [
       "384"
      ]
     },
     "execution_count": 16,
     "metadata": {},
     "output_type": "execute_result"
    }
   ],
   "source": [
    "np.array(tensor,dtype=float).nbytes"
   ]
  },
  {
   "cell_type": "code",
   "execution_count": 17,
   "id": "seeing-container",
   "metadata": {},
   "outputs": [],
   "source": [
    "# Hadling shpae"
   ]
  },
  {
   "cell_type": "code",
   "execution_count": null,
   "id": "ranking-cabin",
   "metadata": {},
   "outputs": [],
   "source": [
    "* reshape : Array의 shape 크기를 변경함. element 개수는 동일"
   ]
  },
  {
   "cell_type": "code",
   "execution_count": 18,
   "id": "blocked-tamil",
   "metadata": {},
   "outputs": [
    {
     "data": {
      "text/plain": [
       "(2, 4)"
      ]
     },
     "execution_count": 18,
     "metadata": {},
     "output_type": "execute_result"
    }
   ],
   "source": [
    "test_matrix=[[1,2,3,4],[1,2,5,8]]\n",
    "np.array(test_matrix).shape"
   ]
  },
  {
   "cell_type": "code",
   "execution_count": 19,
   "id": "noted-carol",
   "metadata": {},
   "outputs": [
    {
     "data": {
      "text/plain": [
       "array([1, 2, 3, 4, 1, 2, 5, 8])"
      ]
     },
     "execution_count": 19,
     "metadata": {},
     "output_type": "execute_result"
    }
   ],
   "source": [
    "np.array(test_matrix).reshape(8,)"
   ]
  },
  {
   "cell_type": "code",
   "execution_count": 21,
   "id": "fifteen-leone",
   "metadata": {},
   "outputs": [
    {
     "data": {
      "text/plain": [
       "(4, 2)"
      ]
     },
     "execution_count": 21,
     "metadata": {},
     "output_type": "execute_result"
    }
   ],
   "source": [
    "np.array(test_matrix).reshape(-1,2).shape # -1 : size 기반으로 row개수 선정"
   ]
  },
  {
   "cell_type": "code",
   "execution_count": 22,
   "id": "functioning-prerequisite",
   "metadata": {},
   "outputs": [
    {
     "data": {
      "text/plain": [
       "array([[[1, 2],\n",
       "        [3, 4]],\n",
       "\n",
       "       [[1, 2],\n",
       "        [5, 8]]])"
      ]
     },
     "execution_count": 22,
     "metadata": {},
     "output_type": "execute_result"
    }
   ],
   "source": [
    "np.array(test_matrix).reshape(2,2,2)"
   ]
  },
  {
   "cell_type": "code",
   "execution_count": null,
   "id": "encouraging-cambridge",
   "metadata": {},
   "outputs": [],
   "source": [
    "# flat or flatten : 다차원 array를 1차원 array로 변환"
   ]
  },
  {
   "cell_type": "code",
   "execution_count": 23,
   "id": "sufficient-prior",
   "metadata": {},
   "outputs": [],
   "source": [
    "test_matrix=[[\n",
    "    [1, 2],[3, 4]],\n",
    "    [[1, 2],[5, 8]]\n",
    "]"
   ]
  },
  {
   "cell_type": "code",
   "execution_count": 24,
   "id": "prompt-trader",
   "metadata": {},
   "outputs": [
    {
     "data": {
      "text/plain": [
       "array([1, 2, 3, 4, 1, 2, 5, 8])"
      ]
     },
     "execution_count": 24,
     "metadata": {},
     "output_type": "execute_result"
    }
   ],
   "source": [
    "np.array(test_matrix).flatten()"
   ]
  },
  {
   "cell_type": "markdown",
   "id": "respective-composite",
   "metadata": {},
   "source": [
    "# indexing & slicing\n",
    "* list와 달리 이차원 배열에서 [0,0] 표기법을 제공함\n",
    "* 매트릭스의 경우 앞은 row, 뒤는 colum"
   ]
  },
  {
   "cell_type": "code",
   "execution_count": 32,
   "id": "thousand-humor",
   "metadata": {},
   "outputs": [],
   "source": [
    "test_matrix=np.array([[1,2,3],[4,5,6]],int)"
   ]
  },
  {
   "cell_type": "code",
   "execution_count": 33,
   "id": "athletic-content",
   "metadata": {},
   "outputs": [
    {
     "data": {
      "text/plain": [
       "1"
      ]
     },
     "execution_count": 33,
     "metadata": {},
     "output_type": "execute_result"
    }
   ],
   "source": [
    "test_matrix[0][0]"
   ]
  },
  {
   "cell_type": "code",
   "execution_count": 34,
   "id": "quick-postcard",
   "metadata": {},
   "outputs": [
    {
     "data": {
      "text/plain": [
       "1"
      ]
     },
     "execution_count": 34,
     "metadata": {},
     "output_type": "execute_result"
    }
   ],
   "source": [
    "test_matrix[0,0]"
   ]
  },
  {
   "cell_type": "code",
   "execution_count": 36,
   "id": "correct-wedding",
   "metadata": {},
   "outputs": [],
   "source": [
    "test_matrix[0,0]=10"
   ]
  },
  {
   "cell_type": "code",
   "execution_count": 37,
   "id": "palestinian-consultancy",
   "metadata": {},
   "outputs": [
    {
     "data": {
      "text/plain": [
       "array([[10,  2,  3],\n",
       "       [ 4,  5,  6]])"
      ]
     },
     "execution_count": 37,
     "metadata": {},
     "output_type": "execute_result"
    }
   ],
   "source": [
    "test_matrix"
   ]
  },
  {
   "cell_type": "markdown",
   "id": "aware-disclosure",
   "metadata": {},
   "source": [
    "# slicing\n",
    "* 리스트와 달리 행과 열 부분을 나눠서 슬라이싱이 가능함.\n",
    "* 매트릭스의 부분 집합을 추출할 때 유용"
   ]
  },
  {
   "cell_type": "code",
   "execution_count": 40,
   "id": "french-dominant",
   "metadata": {},
   "outputs": [
    {
     "data": {
      "text/plain": [
       "array([[ 3,  4,  5],\n",
       "       [ 8,  9, 10]])"
      ]
     },
     "execution_count": 40,
     "metadata": {},
     "output_type": "execute_result"
    }
   ],
   "source": [
    "a=np.array([[1,2,3,4,5],[6,7,8,9,10]],int)\n",
    "a[:,2:]"
   ]
  },
  {
   "cell_type": "code",
   "execution_count": 41,
   "id": "environmental-residence",
   "metadata": {},
   "outputs": [
    {
     "data": {
      "text/plain": [
       "array([7, 8])"
      ]
     },
     "execution_count": 41,
     "metadata": {},
     "output_type": "execute_result"
    }
   ],
   "source": [
    "a[1,1:3]"
   ]
  },
  {
   "cell_type": "code",
   "execution_count": 42,
   "id": "scientific-stand",
   "metadata": {},
   "outputs": [
    {
     "data": {
      "text/plain": [
       "array([[ 6,  7,  8,  9, 10]])"
      ]
     },
     "execution_count": 42,
     "metadata": {},
     "output_type": "execute_result"
    }
   ],
   "source": [
    "a[1:3] # 1 row~ 2row"
   ]
  },
  {
   "cell_type": "code",
   "execution_count": 43,
   "id": "acute-shepherd",
   "metadata": {},
   "outputs": [],
   "source": [
    "test_array=np.array([[1,2,5,8],[1,2,5,8],[1,2,5,8],[1,2,5,8]],int)"
   ]
  },
  {
   "cell_type": "code",
   "execution_count": 44,
   "id": "alike-brain",
   "metadata": {},
   "outputs": [
    {
     "data": {
      "text/plain": [
       "array([[1, 2, 5, 8],\n",
       "       [1, 2, 5, 8],\n",
       "       [1, 2, 5, 8],\n",
       "       [1, 2, 5, 8]])"
      ]
     },
     "execution_count": 44,
     "metadata": {},
     "output_type": "execute_result"
    }
   ],
   "source": [
    "test_array"
   ]
  },
  {
   "cell_type": "code",
   "execution_count": 45,
   "id": "charitable-folks",
   "metadata": {},
   "outputs": [
    {
     "data": {
      "text/plain": [
       "array([[5, 8]])"
      ]
     },
     "execution_count": 45,
     "metadata": {},
     "output_type": "execute_result"
    }
   ],
   "source": [
    "test_array[1:2,2:]"
   ]
  },
  {
   "cell_type": "code",
   "execution_count": 48,
   "id": "engaging-cycle",
   "metadata": {},
   "outputs": [],
   "source": [
    "test_array=np.array([[1,2,5,8],[1,2,5,8]],int)"
   ]
  },
  {
   "cell_type": "code",
   "execution_count": 49,
   "id": "enormous-understanding",
   "metadata": {},
   "outputs": [
    {
     "data": {
      "text/plain": [
       "array([1, 2, 5, 8])"
      ]
     },
     "execution_count": 49,
     "metadata": {},
     "output_type": "execute_result"
    }
   ],
   "source": [
    "test_array[1]"
   ]
  },
  {
   "cell_type": "code",
   "execution_count": 50,
   "id": "deadly-smart",
   "metadata": {},
   "outputs": [
    {
     "data": {
      "text/plain": [
       "array([[1, 2, 5, 8]])"
      ]
     },
     "execution_count": 50,
     "metadata": {},
     "output_type": "execute_result"
    }
   ],
   "source": [
    "test_array[1:3]"
   ]
  },
  {
   "cell_type": "code",
   "execution_count": 52,
   "id": "inner-record",
   "metadata": {},
   "outputs": [
    {
     "data": {
      "text/plain": [
       "array([[ 0,  1,  2,  3,  4,  5,  6,  7,  8,  9],\n",
       "       [10, 11, 12, 13, 14, 15, 16, 17, 18, 19],\n",
       "       [20, 21, 22, 23, 24, 25, 26, 27, 28, 29],\n",
       "       [30, 31, 32, 33, 34, 35, 36, 37, 38, 39],\n",
       "       [40, 41, 42, 43, 44, 45, 46, 47, 48, 49],\n",
       "       [50, 51, 52, 53, 54, 55, 56, 57, 58, 59],\n",
       "       [60, 61, 62, 63, 64, 65, 66, 67, 68, 69],\n",
       "       [70, 71, 72, 73, 74, 75, 76, 77, 78, 79],\n",
       "       [80, 81, 82, 83, 84, 85, 86, 87, 88, 89],\n",
       "       [90, 91, 92, 93, 94, 95, 96, 97, 98, 99]])"
      ]
     },
     "execution_count": 52,
     "metadata": {},
     "output_type": "execute_result"
    }
   ],
   "source": [
    "a=np.arange(100).reshape(10,10) \n",
    "a"
   ]
  },
  {
   "cell_type": "code",
   "execution_count": 53,
   "id": "together-begin",
   "metadata": {},
   "outputs": [
    {
     "data": {
      "text/plain": [
       "array([ 9, 19, 29, 39, 49, 59, 69, 79, 89, 99])"
      ]
     },
     "execution_count": 53,
     "metadata": {},
     "output_type": "execute_result"
    }
   ],
   "source": [
    "a[:,-1]"
   ]
  },
  {
   "cell_type": "code",
   "execution_count": 54,
   "id": "formed-insider",
   "metadata": {},
   "outputs": [
    {
     "data": {
      "text/plain": [
       "array([[ 0,  2,  4,  6,  8],\n",
       "       [10, 12, 14, 16, 18],\n",
       "       [20, 22, 24, 26, 28],\n",
       "       [30, 32, 34, 36, 38],\n",
       "       [40, 42, 44, 46, 48],\n",
       "       [50, 52, 54, 56, 58],\n",
       "       [60, 62, 64, 66, 68],\n",
       "       [70, 72, 74, 76, 78],\n",
       "       [80, 82, 84, 86, 88],\n",
       "       [90, 92, 94, 96, 98]])"
      ]
     },
     "execution_count": 54,
     "metadata": {},
     "output_type": "execute_result"
    }
   ],
   "source": [
    "a[:,::2]"
   ]
  },
  {
   "cell_type": "markdown",
   "id": "olive-customs",
   "metadata": {},
   "source": [
    "## creation function"
   ]
  },
  {
   "cell_type": "code",
   "execution_count": 57,
   "id": "latter-fiction",
   "metadata": {},
   "outputs": [
    {
     "data": {
      "text/plain": [
       "array([ 0,  1,  2,  3,  4,  5,  6,  7,  8,  9, 10, 11, 12, 13, 14, 15, 16,\n",
       "       17, 18, 19, 20, 21, 22, 23, 24, 25, 26, 27, 28, 29])"
      ]
     },
     "execution_count": 57,
     "metadata": {},
     "output_type": "execute_result"
    }
   ],
   "source": [
    "# 1. arange : array 범위 지정해 값의 리스트를 생성하는 명령어\n",
    "np.arange(30)"
   ]
  },
  {
   "cell_type": "code",
   "execution_count": 59,
   "id": "veterinary-norway",
   "metadata": {},
   "outputs": [
    {
     "data": {
      "text/plain": [
       "array([0. , 0.5, 1. , 1.5, 2. , 2.5, 3. , 3.5, 4. , 4.5])"
      ]
     },
     "execution_count": 59,
     "metadata": {},
     "output_type": "execute_result"
    }
   ],
   "source": [
    "np.arange(0,5,0.5) # floating point로 step 가능"
   ]
  },
  {
   "cell_type": "code",
   "execution_count": 61,
   "id": "referenced-nickname",
   "metadata": {},
   "outputs": [
    {
     "data": {
      "text/plain": [
       "array([[ 0,  1,  2,  3,  4,  5],\n",
       "       [ 6,  7,  8,  9, 10, 11],\n",
       "       [12, 13, 14, 15, 16, 17],\n",
       "       [18, 19, 20, 21, 22, 23],\n",
       "       [24, 25, 26, 27, 28, 29]])"
      ]
     },
     "execution_count": 61,
     "metadata": {},
     "output_type": "execute_result"
    }
   ],
   "source": [
    "np.arange(30).reshape(5,6)"
   ]
  },
  {
   "cell_type": "code",
   "execution_count": 78,
   "id": "hairy-broad",
   "metadata": {},
   "outputs": [
    {
     "data": {
      "text/plain": [
       "array([0, 0, 0, 0, 0, 0, 0, 0, 0, 0], dtype=int8)"
      ]
     },
     "execution_count": 78,
     "metadata": {},
     "output_type": "execute_result"
    }
   ],
   "source": [
    "# 2. ones, zeros and empty\n",
    "np.zeros(shape=(10,),dtype=np.int8)"
   ]
  },
  {
   "cell_type": "code",
   "execution_count": 63,
   "id": "tender-webcam",
   "metadata": {},
   "outputs": [
    {
     "data": {
      "text/plain": [
       "array([[0., 0., 0., 0., 0.],\n",
       "       [0., 0., 0., 0., 0.]])"
      ]
     },
     "execution_count": 63,
     "metadata": {},
     "output_type": "execute_result"
    }
   ],
   "source": [
    "np.zeros((2,5))"
   ]
  },
  {
   "cell_type": "code",
   "execution_count": 66,
   "id": "chicken-finnish",
   "metadata": {},
   "outputs": [
    {
     "data": {
      "text/plain": [
       "array([1, 0, 0, 0, 2, 0, 0, 0, 3, 0, 0, 0, 4, 0, 0, 0, 5, 0, 0, 0],\n",
       "      dtype=int8)"
      ]
     },
     "execution_count": 66,
     "metadata": {},
     "output_type": "execute_result"
    }
   ],
   "source": [
    "# empty의 경우 메모리 잡기는 하지만 memory initialization이 되지 않음\n",
    "np.empty(shape=(20,),dtype=np.int8) # shape만 주어지고 비어있는 ndarray생성"
   ]
  },
  {
   "cell_type": "code",
   "execution_count": 68,
   "id": "computational-shuttle",
   "metadata": {},
   "outputs": [],
   "source": [
    "# 3. something_like - 기존 ndarray의 shape 크기 만큼 1,0또는 empty array 반환"
   ]
  },
  {
   "cell_type": "code",
   "execution_count": 72,
   "id": "foreign-yield",
   "metadata": {},
   "outputs": [
    {
     "data": {
      "text/plain": [
       "array([[1, 1, 1, 1, 1, 1],\n",
       "       [1, 1, 1, 1, 1, 1],\n",
       "       [1, 1, 1, 1, 1, 1],\n",
       "       [1, 1, 1, 1, 1, 1],\n",
       "       [1, 1, 1, 1, 1, 1]])"
      ]
     },
     "execution_count": 72,
     "metadata": {},
     "output_type": "execute_result"
    }
   ],
   "source": [
    "test_matrix = np.arange(30).reshape(5,6)\n",
    "np.ones_like(test_matrix)"
   ]
  },
  {
   "cell_type": "code",
   "execution_count": null,
   "id": "egyptian-science",
   "metadata": {},
   "outputs": [],
   "source": [
    "## eye,identity& digonal"
   ]
  },
  {
   "cell_type": "code",
   "execution_count": 79,
   "id": "neural-cannon",
   "metadata": {},
   "outputs": [
    {
     "data": {
      "text/plain": [
       "array([[1, 0, 0],\n",
       "       [0, 1, 0],\n",
       "       [0, 0, 1]], dtype=int8)"
      ]
     },
     "execution_count": 79,
     "metadata": {},
     "output_type": "execute_result"
    }
   ],
   "source": [
    "# 4. identity : 단위 행렬 생성\n",
    "np.identity(n=3,dtype=np.int8)"
   ]
  },
  {
   "cell_type": "code",
   "execution_count": 80,
   "id": "studied-philosophy",
   "metadata": {},
   "outputs": [
    {
     "data": {
      "text/plain": [
       "array([[1., 0., 0.],\n",
       "       [0., 1., 0.],\n",
       "       [0., 0., 1.]])"
      ]
     },
     "execution_count": 80,
     "metadata": {},
     "output_type": "execute_result"
    }
   ],
   "source": [
    "# 5. eye : 대각선이 1인 행렬. k값의 시작 인덱스 변경 가능\n",
    "np.eye(3)"
   ]
  },
  {
   "cell_type": "code",
   "execution_count": 81,
   "id": "liable-recognition",
   "metadata": {},
   "outputs": [
    {
     "data": {
      "text/plain": [
       "array([[0., 0., 1., 0., 0.],\n",
       "       [0., 0., 0., 1., 0.],\n",
       "       [0., 0., 0., 0., 1.]])"
      ]
     },
     "execution_count": 81,
     "metadata": {},
     "output_type": "execute_result"
    }
   ],
   "source": [
    "np.eye(3,5,k=2) # k :시작하는 열"
   ]
  },
  {
   "cell_type": "code",
   "execution_count": null,
   "id": "offshore-approval",
   "metadata": {},
   "outputs": [],
   "source": [
    "# 6. diag : 대각 행렬의 값 추출"
   ]
  },
  {
   "cell_type": "code",
   "execution_count": 82,
   "id": "material-stand",
   "metadata": {},
   "outputs": [
    {
     "data": {
      "text/plain": [
       "array([0, 4, 8])"
      ]
     },
     "execution_count": 82,
     "metadata": {},
     "output_type": "execute_result"
    }
   ],
   "source": [
    "matrix=np.arange(9).reshape(3,3)\n",
    "np.diag(matrix)"
   ]
  },
  {
   "cell_type": "code",
   "execution_count": 83,
   "id": "demographic-minnesota",
   "metadata": {},
   "outputs": [
    {
     "data": {
      "text/plain": [
       "array([1, 5])"
      ]
     },
     "execution_count": 83,
     "metadata": {},
     "output_type": "execute_result"
    }
   ],
   "source": [
    "np.diag(matrix,k=1) # k : start idx"
   ]
  },
  {
   "cell_type": "markdown",
   "id": "synthetic-innocent",
   "metadata": {},
   "source": [
    "## numpy.random\n",
    "* random sampling - 데이터 분포에 따른 sampling으로 array 생성"
   ]
  },
  {
   "cell_type": "code",
   "execution_count": 85,
   "id": "similar-spell",
   "metadata": {},
   "outputs": [
    {
     "data": {
      "text/plain": [
       "array([[0.07092477, 0.30709293, 0.84334154, 0.52496792, 0.29790778],\n",
       "       [0.54515178, 0.38768373, 0.02961297, 0.8149337 , 0.79797335]])"
      ]
     },
     "execution_count": 85,
     "metadata": {},
     "output_type": "execute_result"
    }
   ],
   "source": [
    "np.random.uniform(0,1,10).reshape(2,5) # 균등 분포"
   ]
  },
  {
   "cell_type": "code",
   "execution_count": 87,
   "id": "defined-norman",
   "metadata": {},
   "outputs": [
    {
     "data": {
      "text/plain": [
       "array([[0.2239035 , 0.5924722 , 0.93070474, 0.83801373, 0.34631762],\n",
       "       [0.0327903 , 0.49863433, 0.86493194, 0.45638792, 0.25048327]])"
      ]
     },
     "execution_count": 87,
     "metadata": {},
     "output_type": "execute_result"
    }
   ],
   "source": [
    "np.random.uniform(0,1,10).reshape(2,5) # 정규 분포"
   ]
  },
  {
   "cell_type": "code",
   "execution_count": 9,
   "id": "immune-viewer",
   "metadata": {
    "collapsed": true
   },
   "outputs": [
    {
     "data": {
      "text/plain": [
       "array([ 2.4934302 ,  0.56808472,  2.06863389,  2.58003405,  6.96071396,\n",
       "        1.74303664, 10.10261725,  4.47195958,  1.28478421,  3.19832974,\n",
       "        0.72523414,  0.4677355 ,  2.05327526,  2.55497426,  4.14377817,\n",
       "        0.93137921,  0.13007317,  1.05389246,  3.68026567,  0.42409419,\n",
       "        2.81887073,  0.47572501,  2.78750433,  1.81574579,  5.61169229,\n",
       "        7.09789094,  7.34892552,  1.04627942,  3.64684433,  0.80355756,\n",
       "        0.65877637,  0.46406929,  1.84848691,  3.23362474,  0.47225013,\n",
       "        6.80221537,  5.81675795,  5.61574225,  7.87616828,  4.37015117,\n",
       "        1.37507784,  0.46252823,  1.13267391,  2.41867268,  0.68278228,\n",
       "        0.3024826 ,  1.48796792,  5.56366733,  8.15748387,  0.39934592,\n",
       "        0.17112509,  0.02450228,  1.24744173,  5.00132175,  2.5964141 ,\n",
       "        4.29828828,  3.21518634,  0.59730548,  0.53894048,  1.00649252,\n",
       "        4.38184497,  1.71787021, 14.07425892,  0.11414647,  2.32689356,\n",
       "        0.0360409 ,  1.70170184,  1.57176807,  0.29186086,  3.61263711,\n",
       "        1.66016919,  2.26590095,  0.25175411,  0.05762343,  1.31715477,\n",
       "       10.23510145,  0.08140668,  0.05115854,  1.47058656,  7.54985843,\n",
       "        1.22280398,  1.28186933,  5.96116108, 11.05827103,  0.83327788,\n",
       "        5.66833047,  1.05246848,  0.51996185,  0.41812844,  0.15940241,\n",
       "        4.2188406 ,  5.27108023,  0.33697139,  2.01255046,  0.67734871,\n",
       "        0.05354515,  0.20784127,  0.32986387,  1.0037765 ,  2.65826159])"
      ]
     },
     "execution_count": 9,
     "metadata": {},
     "output_type": "execute_result"
    }
   ],
   "source": [
    "np.random.exponential(scale=2, size=100)"
   ]
  },
  {
   "cell_type": "markdown",
   "id": "nutritional-textbook",
   "metadata": {},
   "source": [
    "# axis"
   ]
  },
  {
   "cell_type": "code",
   "execution_count": 12,
   "id": "controversial-semiconductor",
   "metadata": {},
   "outputs": [
    {
     "data": {
      "text/plain": [
       "array([[ 1,  2,  3,  4],\n",
       "       [ 5,  6,  7,  8],\n",
       "       [ 9, 10, 11, 12]])"
      ]
     },
     "execution_count": 12,
     "metadata": {},
     "output_type": "execute_result"
    }
   ],
   "source": [
    "test_array=np.arange(1,13).reshape(3,4)\n",
    "test_array"
   ]
  },
  {
   "cell_type": "code",
   "execution_count": 13,
   "id": "internal-terrorism",
   "metadata": {},
   "outputs": [
    {
     "data": {
      "text/plain": [
       "(array([10, 26, 42]), array([15, 18, 21, 24]))"
      ]
     },
     "execution_count": 13,
     "metadata": {},
     "output_type": "execute_result"
    }
   ],
   "source": [
    "test_array.sum(axis=1), test_array.sum(axis=0)"
   ]
  },
  {
   "cell_type": "code",
   "execution_count": 14,
   "id": "spectacular-grill",
   "metadata": {},
   "outputs": [],
   "source": [
    "third_order_tensor=np.array([test_array,test_array,test_array])"
   ]
  },
  {
   "cell_type": "code",
   "execution_count": 15,
   "id": "solved-steering",
   "metadata": {},
   "outputs": [
    {
     "data": {
      "text/plain": [
       "(3, 3, 4)"
      ]
     },
     "execution_count": 15,
     "metadata": {},
     "output_type": "execute_result"
    }
   ],
   "source": [
    "third_order_tensor.shape"
   ]
  },
  {
   "cell_type": "code",
   "execution_count": 17,
   "id": "royal-narrative",
   "metadata": {},
   "outputs": [
    {
     "data": {
      "text/plain": [
       "array([[[ 1,  2,  3,  4],\n",
       "        [ 5,  6,  7,  8],\n",
       "        [ 9, 10, 11, 12]],\n",
       "\n",
       "       [[ 1,  2,  3,  4],\n",
       "        [ 5,  6,  7,  8],\n",
       "        [ 9, 10, 11, 12]],\n",
       "\n",
       "       [[ 1,  2,  3,  4],\n",
       "        [ 5,  6,  7,  8],\n",
       "        [ 9, 10, 11, 12]]])"
      ]
     },
     "execution_count": 17,
     "metadata": {},
     "output_type": "execute_result"
    }
   ],
   "source": [
    "third_order_tensor"
   ]
  },
  {
   "cell_type": "code",
   "execution_count": 16,
   "id": "trying-extension",
   "metadata": {},
   "outputs": [
    {
     "data": {
      "text/plain": [
       "array([[10, 26, 42],\n",
       "       [10, 26, 42],\n",
       "       [10, 26, 42]])"
      ]
     },
     "execution_count": 16,
     "metadata": {},
     "output_type": "execute_result"
    }
   ],
   "source": [
    "third_order_tensor.sum(axis=2)"
   ]
  },
  {
   "cell_type": "code",
   "execution_count": 18,
   "id": "underlying-zimbabwe",
   "metadata": {},
   "outputs": [
    {
     "data": {
      "text/plain": [
       "array([[ 3,  6,  9, 12],\n",
       "       [15, 18, 21, 24],\n",
       "       [27, 30, 33, 36]])"
      ]
     },
     "execution_count": 18,
     "metadata": {},
     "output_type": "execute_result"
    }
   ],
   "source": [
    "third_order_tensor.sum(axis=0)"
   ]
  },
  {
   "cell_type": "code",
   "execution_count": 19,
   "id": "surprised-malaysia",
   "metadata": {},
   "outputs": [
    {
     "data": {
      "text/plain": [
       "array([[15, 18, 21, 24],\n",
       "       [15, 18, 21, 24],\n",
       "       [15, 18, 21, 24]])"
      ]
     },
     "execution_count": 19,
     "metadata": {},
     "output_type": "execute_result"
    }
   ],
   "source": [
    "third_order_tensor.sum(axis=1)"
   ]
  },
  {
   "cell_type": "code",
   "execution_count": 20,
   "id": "australian-spain",
   "metadata": {},
   "outputs": [],
   "source": [
    "# Comcatenate - numpy array를 붙이는 함수"
   ]
  },
  {
   "cell_type": "code",
   "execution_count": 30,
   "id": "convertible-damages",
   "metadata": {},
   "outputs": [],
   "source": [
    "a=np.array([1,2,3])\n",
    "b=np.array([2,3,4])"
   ]
  },
  {
   "cell_type": "code",
   "execution_count": 31,
   "id": "julian-hopkins",
   "metadata": {},
   "outputs": [
    {
     "data": {
      "text/plain": [
       "array([[1, 2, 3],\n",
       "       [2, 3, 4]])"
      ]
     },
     "execution_count": 31,
     "metadata": {},
     "output_type": "execute_result"
    }
   ],
   "source": [
    "np.vstack((a,b))"
   ]
  },
  {
   "cell_type": "code",
   "execution_count": 37,
   "id": "capital-restriction",
   "metadata": {},
   "outputs": [],
   "source": [
    "a=np.array([[1,2,3]])\n",
    "b=np.array([[2,3,4]])"
   ]
  },
  {
   "cell_type": "code",
   "execution_count": 38,
   "id": "driving-straight",
   "metadata": {},
   "outputs": [
    {
     "data": {
      "text/plain": [
       "array([[1, 2, 3],\n",
       "       [2, 3, 4]])"
      ]
     },
     "execution_count": 38,
     "metadata": {},
     "output_type": "execute_result"
    }
   ],
   "source": [
    "np.concatenate((a,b),axis=0)"
   ]
  },
  {
   "cell_type": "code",
   "execution_count": 41,
   "id": "italic-assessment",
   "metadata": {},
   "outputs": [],
   "source": [
    "a=np.array([[1],[2],[3]])\n",
    "b=np.array([[2],[3],[4]])"
   ]
  },
  {
   "cell_type": "code",
   "execution_count": 27,
   "id": "excited-disability",
   "metadata": {},
   "outputs": [
    {
     "data": {
      "text/plain": [
       "array([[1, 2],\n",
       "       [2, 3],\n",
       "       [3, 4]])"
      ]
     },
     "execution_count": 27,
     "metadata": {},
     "output_type": "execute_result"
    }
   ],
   "source": [
    "np.hstack((a,b))"
   ]
  },
  {
   "cell_type": "code",
   "execution_count": 42,
   "id": "advised-production",
   "metadata": {},
   "outputs": [
    {
     "data": {
      "text/plain": [
       "array([[1, 2],\n",
       "       [2, 3],\n",
       "       [3, 4]])"
      ]
     },
     "execution_count": 42,
     "metadata": {},
     "output_type": "execute_result"
    }
   ],
   "source": [
    "np.concatenate((a,b),axis=1)"
   ]
  },
  {
   "cell_type": "code",
   "execution_count": 52,
   "id": "certified-hydrogen",
   "metadata": {},
   "outputs": [],
   "source": [
    "# + newaxis \n",
    "a=np.array([[1,2],[3,4]])\n",
    "b=np.array([5,6]) # rank가 1인 벡터임. a와 더해지려면 dim+1해야"
   ]
  },
  {
   "cell_type": "code",
   "execution_count": 53,
   "id": "seasonal-anthony",
   "metadata": {},
   "outputs": [
    {
     "data": {
      "text/plain": [
       "array([[5, 6]])"
      ]
     },
     "execution_count": 53,
     "metadata": {},
     "output_type": "execute_result"
    }
   ],
   "source": [
    "b=b[np.newaxis,:]\n",
    "b"
   ]
  },
  {
   "cell_type": "code",
   "execution_count": 54,
   "id": "considered-louisiana",
   "metadata": {},
   "outputs": [
    {
     "data": {
      "text/plain": [
       "array([[1, 2, 5],\n",
       "       [3, 4, 6]])"
      ]
     },
     "execution_count": 54,
     "metadata": {},
     "output_type": "execute_result"
    }
   ],
   "source": [
    "np.concatenate((a,b.T),axis=1)"
   ]
  },
  {
   "cell_type": "markdown",
   "id": "direct-financing",
   "metadata": {},
   "source": [
    "### array operations - array간 기본적인 사칙 연산 지원함\n",
    "* element wise operations\n",
    "    - array간 shape이 `같을 때` 일어나는 연산. 같은 위치에 있는 원소간 +,-,* 등\n",
    "    - cf. braodcasting : shape이 다른 배열 간에 연산을 지원함 \n",
    "* dot product \n",
    "    - 행렬 곱 떠올리기"
   ]
  },
  {
   "cell_type": "code",
   "execution_count": 57,
   "id": "disabled-newcastle",
   "metadata": {},
   "outputs": [],
   "source": [
    "# dot product\n",
    "a=np.arange(1,7).reshape(2,3)\n",
    "b=np.arange(7,13).reshape(3,2)"
   ]
  },
  {
   "cell_type": "code",
   "execution_count": 58,
   "id": "attached-medicare",
   "metadata": {},
   "outputs": [
    {
     "data": {
      "text/plain": [
       "array([[ 58,  64],\n",
       "       [139, 154]])"
      ]
     },
     "execution_count": 58,
     "metadata": {},
     "output_type": "execute_result"
    }
   ],
   "source": [
    "a.dot(b)"
   ]
  },
  {
   "cell_type": "code",
   "execution_count": 60,
   "id": "remarkable-greene",
   "metadata": {},
   "outputs": [
    {
     "data": {
      "text/plain": [
       "array([[1, 2, 3],\n",
       "       [4, 5, 6]])"
      ]
     },
     "execution_count": 60,
     "metadata": {},
     "output_type": "execute_result"
    }
   ],
   "source": [
    "# transpose\n",
    "a=np.arange(1,7).reshape(2,3)\n",
    "a"
   ]
  },
  {
   "cell_type": "code",
   "execution_count": 61,
   "id": "helpful-decline",
   "metadata": {},
   "outputs": [
    {
     "data": {
      "text/plain": [
       "array([[1, 4],\n",
       "       [2, 5],\n",
       "       [3, 6]])"
      ]
     },
     "execution_count": 61,
     "metadata": {},
     "output_type": "execute_result"
    }
   ],
   "source": [
    "a.transpose()"
   ]
  },
  {
   "cell_type": "code",
   "execution_count": 62,
   "id": "welcome-still",
   "metadata": {},
   "outputs": [
    {
     "data": {
      "text/plain": [
       "array([[1, 4],\n",
       "       [2, 5],\n",
       "       [3, 6]])"
      ]
     },
     "execution_count": 62,
     "metadata": {},
     "output_type": "execute_result"
    }
   ],
   "source": [
    "a.T"
   ]
  },
  {
   "cell_type": "code",
   "execution_count": 64,
   "id": "documentary-prompt",
   "metadata": {},
   "outputs": [
    {
     "data": {
      "text/plain": [
       "array([[4., 5., 6.],\n",
       "       [7., 8., 9.]])"
      ]
     },
     "execution_count": 64,
     "metadata": {},
     "output_type": "execute_result"
    }
   ],
   "source": [
    "# broadcasting - scalar~vector 외에도 vector-matrix 간 연산도 지원\n",
    "matrix=np.array([[1,2,3],[4,5,6]],float)\n",
    "scalar=3\n",
    "matrix+scalar"
   ]
  },
  {
   "cell_type": "code",
   "execution_count": 65,
   "id": "therapeutic-advice",
   "metadata": {},
   "outputs": [
    {
     "data": {
      "text/plain": [
       "array([[ 5., 10., 15.],\n",
       "       [20., 25., 30.]])"
      ]
     },
     "execution_count": 65,
     "metadata": {},
     "output_type": "execute_result"
    }
   ],
   "source": [
    "matrix*5"
   ]
  },
  {
   "cell_type": "code",
   "execution_count": 66,
   "id": "supposed-accent",
   "metadata": {},
   "outputs": [
    {
     "data": {
      "text/plain": [
       "array([[11, 22, 33],\n",
       "       [14, 25, 36],\n",
       "       [17, 28, 39],\n",
       "       [20, 31, 42]])"
      ]
     },
     "execution_count": 66,
     "metadata": {},
     "output_type": "execute_result"
    }
   ],
   "source": [
    "matrix=np.arange(1,13).reshape(4,3)\n",
    "vector=np.arange(10,40,10)\n",
    "matrix+vector"
   ]
  },
  {
   "cell_type": "code",
   "execution_count": 8,
   "id": "fitting-antique",
   "metadata": {},
   "outputs": [],
   "source": [
    "# timeit으로 numpy performance 체크하기\n",
    "def scalar_vector_product(scalar,vector):\n",
    "    res=[]\n",
    "    for val in vector:\n",
    "        res.append(scalar*val)\n",
    "    return res\n",
    "\n",
    "iternation_max=100000000\n",
    "vector=list(range(iternation_max))\n",
    "scalar=2"
   ]
  },
  {
   "cell_type": "code",
   "execution_count": null,
   "id": "persistent-kelly",
   "metadata": {},
   "outputs": [],
   "source": [
    "%timeit scalar_vector_product(scalar,vector)\n",
    "%timeit [scalar*value for value in range(iternation_max)]"
   ]
  },
  {
   "cell_type": "code",
   "execution_count": null,
   "id": "smoking-genome",
   "metadata": {},
   "outputs": [],
   "source": [
    "%timeit np.arange(iternation_max)*scalar"
   ]
  },
  {
   "cell_type": "markdown",
   "id": "internal-recording",
   "metadata": {},
   "source": [
    "속도는 \n",
    "* for loop < list compre < numpy \n",
    "* 100,000,000번의 루프가 돌 때 약 4배 이상의 성능 차이 보임\n",
    "* numpy C로 구현되어 있어 성능 확보하는 대신 파이썬의 동적 타이핑 포기함\n",
    "* concentenate처럼 계산이 아닌 할당에서는 연산 속도의 이점이 없음"
   ]
  },
  {
   "cell_type": "code",
   "execution_count": 2,
   "id": "bright-citizenship",
   "metadata": {},
   "outputs": [
    {
     "data": {
      "text/plain": [
       "array([0, 1, 2, 3, 4, 5, 6, 7, 8, 9])"
      ]
     },
     "execution_count": 2,
     "metadata": {},
     "output_type": "execute_result"
    }
   ],
   "source": [
    "# all & any\n",
    "import numpy as np\n",
    "a=np.arange(10)\n",
    "a"
   ]
  },
  {
   "cell_type": "code",
   "execution_count": 3,
   "id": "greenhouse-tomorrow",
   "metadata": {},
   "outputs": [
    {
     "data": {
      "text/plain": [
       "(True, False)"
      ]
     },
     "execution_count": 3,
     "metadata": {},
     "output_type": "execute_result"
    }
   ],
   "source": [
    "np.any(a>5),np.any(a<0) # 하나라도 조건에 만족한다면"
   ]
  },
  {
   "cell_type": "code",
   "execution_count": 4,
   "id": "fitted-valley",
   "metadata": {},
   "outputs": [
    {
     "data": {
      "text/plain": [
       "False"
      ]
     },
     "execution_count": 4,
     "metadata": {},
     "output_type": "execute_result"
    }
   ],
   "source": [
    "np.all(a>5) # 모두 조건에 만족한다면"
   ]
  },
  {
   "cell_type": "code",
   "execution_count": 5,
   "id": "unlike-clinton",
   "metadata": {},
   "outputs": [],
   "source": [
    "# comparision operation : numpy는 배열의 크기가 동일할 때, element간 비교 결과를 boolean type으로 반환"
   ]
  },
  {
   "cell_type": "code",
   "execution_count": 9,
   "id": "critical-belfast",
   "metadata": {},
   "outputs": [],
   "source": [
    "a=np.array([[1],[3],[1]],float)\n",
    "b=np.array([[5],[2],[1]],float)"
   ]
  },
  {
   "cell_type": "code",
   "execution_count": 10,
   "id": "competitive-horror",
   "metadata": {},
   "outputs": [
    {
     "data": {
      "text/plain": [
       "array([[False],\n",
       "       [ True],\n",
       "       [False]])"
      ]
     },
     "execution_count": 10,
     "metadata": {},
     "output_type": "execute_result"
    }
   ],
   "source": [
    "a>b"
   ]
  },
  {
   "cell_type": "code",
   "execution_count": 11,
   "id": "comparative-baking",
   "metadata": {},
   "outputs": [
    {
     "data": {
      "text/plain": [
       "array([[False],\n",
       "       [False],\n",
       "       [ True]])"
      ]
     },
     "execution_count": 11,
     "metadata": {},
     "output_type": "execute_result"
    }
   ],
   "source": [
    "a==b"
   ]
  },
  {
   "cell_type": "code",
   "execution_count": 13,
   "id": "resistant-north",
   "metadata": {},
   "outputs": [
    {
     "data": {
      "text/plain": [
       "True"
      ]
     },
     "execution_count": 13,
     "metadata": {},
     "output_type": "execute_result"
    }
   ],
   "source": [
    "(a>b).any()"
   ]
  },
  {
   "cell_type": "code",
   "execution_count": 14,
   "id": "medium-alfred",
   "metadata": {},
   "outputs": [
    {
     "data": {
      "text/plain": [
       "array([ True, False, False])"
      ]
     },
     "execution_count": 14,
     "metadata": {},
     "output_type": "execute_result"
    }
   ],
   "source": [
    "a=np.array([1,3,0],float)\n",
    "np.logical_and(a>0,a<3) # [T,T,F]and[T,F,F] # or,not 연산도 가능"
   ]
  },
  {
   "cell_type": "code",
   "execution_count": 15,
   "id": "polyphonic-pharmaceutical",
   "metadata": {},
   "outputs": [],
   "source": [
    "# np.where : 2가지 방식"
   ]
  },
  {
   "cell_type": "code",
   "execution_count": 16,
   "id": "sustained-million",
   "metadata": {},
   "outputs": [
    {
     "data": {
      "text/plain": [
       "array([3, 3, 2])"
      ]
     },
     "execution_count": 16,
     "metadata": {},
     "output_type": "execute_result"
    }
   ],
   "source": [
    "np.where(a>0,3,2) # (condition,true,false)"
   ]
  },
  {
   "cell_type": "code",
   "execution_count": 24,
   "id": "anticipated-opera",
   "metadata": {},
   "outputs": [
    {
     "data": {
      "text/plain": [
       "(array([6, 7, 8, 9], dtype=int64),)"
      ]
     },
     "execution_count": 24,
     "metadata": {},
     "output_type": "execute_result"
    }
   ],
   "source": [
    "a=np.arange(10)\n",
    "np.where(a>5) # 인덱스 반환"
   ]
  },
  {
   "cell_type": "code",
   "execution_count": 25,
   "id": "material-valuable",
   "metadata": {},
   "outputs": [
    {
     "data": {
      "text/plain": [
       "array([6, 7, 8, 9], dtype=int64)"
      ]
     },
     "execution_count": 25,
     "metadata": {},
     "output_type": "execute_result"
    }
   ],
   "source": [
    "np.where(a>5)[0]"
   ]
  },
  {
   "cell_type": "code",
   "execution_count": 19,
   "id": "physical-tract",
   "metadata": {},
   "outputs": [
    {
     "data": {
      "text/plain": [
       "array([False,  True, False])"
      ]
     },
     "execution_count": 19,
     "metadata": {},
     "output_type": "execute_result"
    }
   ],
   "source": [
    "a=np.array([1,np.NaN,np.Inf],float)\n",
    "np.isnan(a)"
   ]
  },
  {
   "cell_type": "code",
   "execution_count": 20,
   "id": "oriented-buddy",
   "metadata": {},
   "outputs": [
    {
     "data": {
      "text/plain": [
       "array([ True, False, False])"
      ]
     },
     "execution_count": 20,
     "metadata": {},
     "output_type": "execute_result"
    }
   ],
   "source": [
    "np.isfinite(a)"
   ]
  },
  {
   "cell_type": "code",
   "execution_count": 26,
   "id": "satisfied-biography",
   "metadata": {},
   "outputs": [],
   "source": [
    "# argmax&argmin  & argsort\n",
    "- array내 최대값, 최소값의 idx를 반환함\n",
    "- axis 기반의 반환 가능"
   ]
  },
  {
   "cell_type": "code",
   "execution_count": 28,
   "id": "flexible-stockholm",
   "metadata": {},
   "outputs": [
    {
     "data": {
      "text/plain": [
       "(5, 0)"
      ]
     },
     "execution_count": 28,
     "metadata": {},
     "output_type": "execute_result"
    }
   ],
   "source": [
    "a=np.array([1,2,4,5,8,78,23,3])\n",
    "np.argmax(a),np.argmin(a)"
   ]
  },
  {
   "cell_type": "code",
   "execution_count": 29,
   "id": "wooden-characteristic",
   "metadata": {},
   "outputs": [
    {
     "data": {
      "text/plain": [
       "(array([3, 1, 1], dtype=int64), array([0, 0, 2, 2], dtype=int64))"
      ]
     },
     "execution_count": 29,
     "metadata": {},
     "output_type": "execute_result"
    }
   ],
   "source": [
    "a=np.array([[1,2,4,7],[9,88,6,56],[9,76,3,4]])\n",
    "np.argmax(a,axis=1), np.argmin(a,axis=0)"
   ]
  },
  {
   "cell_type": "code",
   "execution_count": 30,
   "id": "verified-stanley",
   "metadata": {},
   "outputs": [
    {
     "data": {
      "text/plain": [
       "array([ 1,  2,  3,  4,  8, 78, 23,  3])"
      ]
     },
     "execution_count": 30,
     "metadata": {},
     "output_type": "execute_result"
    }
   ],
   "source": [
    "a=np.array([1,2,3,4,8,78,23,3])\n",
    "a"
   ]
  },
  {
   "cell_type": "code",
   "execution_count": 31,
   "id": "conservative-lithuania",
   "metadata": {},
   "outputs": [
    {
     "data": {
      "text/plain": [
       "array([0, 1, 2, 7, 3, 4, 6, 5], dtype=int64)"
      ]
     },
     "execution_count": 31,
     "metadata": {},
     "output_type": "execute_result"
    }
   ],
   "source": [
    "a.argsort() # sort하되, 인덱스 보여줌"
   ]
  },
  {
   "cell_type": "code",
   "execution_count": 32,
   "id": "enabling-recording",
   "metadata": {},
   "outputs": [],
   "source": [
    "# boolean idx\n",
    "# 1. 특정 조건에 따른 값을 배열로 추출\n",
    "# 2. comparison operation 함수들도 모두 사용 가능"
   ]
  },
  {
   "cell_type": "code",
   "execution_count": 33,
   "id": "embedded-sierra",
   "metadata": {},
   "outputs": [
    {
     "data": {
      "text/plain": [
       "array([False,  True, False, False, False,  True,  True,  True])"
      ]
     },
     "execution_count": 33,
     "metadata": {},
     "output_type": "execute_result"
    }
   ],
   "source": [
    "arr=np.array([1,4,0,2,3,8,9,7],float)\n",
    "arr>3"
   ]
  },
  {
   "cell_type": "code",
   "execution_count": 34,
   "id": "multiple-elizabeth",
   "metadata": {},
   "outputs": [
    {
     "data": {
      "text/plain": [
       "array([4., 8., 9., 7.])"
      ]
     },
     "execution_count": 34,
     "metadata": {},
     "output_type": "execute_result"
    }
   ],
   "source": [
    "arr[arr>3]"
   ]
  },
  {
   "cell_type": "code",
   "execution_count": 35,
   "id": "continuous-majority",
   "metadata": {},
   "outputs": [
    {
     "data": {
      "text/plain": [
       "array([1., 0., 2.])"
      ]
     },
     "execution_count": 35,
     "metadata": {},
     "output_type": "execute_result"
    }
   ],
   "source": [
    "condition=arr<3\n",
    "arr[condition]"
   ]
  },
  {
   "cell_type": "code",
   "execution_count": null,
   "id": "checked-width",
   "metadata": {},
   "outputs": [],
   "source": [
    "# fancy idx\n",
    "# numpy는 array를 index value로 사용해서 값 추출\n",
    "\n",
    "# boolean idx 와의 차이\n",
    "# 1. idx가 boolean이냐 integer list냐의 차이\n",
    "# 2. boolean과 달리 배열 크기 서로 달라도 됨, 다만 인덱스 범위는 맞게 설정해야"
   ]
  },
  {
   "cell_type": "code",
   "execution_count": 36,
   "id": "significant-density",
   "metadata": {},
   "outputs": [
    {
     "data": {
      "text/plain": [
       "array([2., 2., 4., 8., 6., 4.])"
      ]
     },
     "execution_count": 36,
     "metadata": {},
     "output_type": "execute_result"
    }
   ],
   "source": [
    "a=np.array([2,4,6,8],float)\n",
    "b=np.array([0,0,1,3,2,1],int) # 반드시 integer로 선언\n",
    "a[b] # bracket index, b배열의 값을 idx로 하여 a값들 추출함"
   ]
  },
  {
   "cell_type": "code",
   "execution_count": 37,
   "id": "completed-success",
   "metadata": {},
   "outputs": [
    {
     "data": {
      "text/plain": [
       "array([2., 2., 4., 8., 6., 4.])"
      ]
     },
     "execution_count": 37,
     "metadata": {},
     "output_type": "execute_result"
    }
   ],
   "source": [
    "a.take(b) # bracket index와 같은 효과"
   ]
  },
  {
   "cell_type": "code",
   "execution_count": 39,
   "id": "alpine-scientist",
   "metadata": {},
   "outputs": [
    {
     "data": {
      "text/plain": [
       "array([1., 4., 6., 6., 4.])"
      ]
     },
     "execution_count": 39,
     "metadata": {},
     "output_type": "execute_result"
    }
   ],
   "source": [
    "a=np.array([[1,4],[9,6]],float)\n",
    "b=np.array([0,0,1,1,0],int)\n",
    "c=np.array([0,1,1,1,1],int)\n",
    "a[b,c] # b를 row idx, c를 col idx로 변환해 표시 - arr[0][0],arr[0][1] 등이 표현됨"
   ]
  },
  {
   "cell_type": "code",
   "execution_count": 41,
   "id": "alone-asthma",
   "metadata": {},
   "outputs": [
    {
     "data": {
      "text/plain": [
       "array([[ 1.,  4.],\n",
       "       [ 1.,  4.],\n",
       "       [ 9., 16.],\n",
       "       [ 9., 16.],\n",
       "       [ 1.,  4.]])"
      ]
     },
     "execution_count": 41,
     "metadata": {},
     "output_type": "execute_result"
    }
   ],
   "source": [
    "a=np.array([[1,4],[9,16]],float)\n",
    "a[b]"
   ]
  },
  {
   "cell_type": "code",
   "execution_count": 42,
   "id": "spread-amino",
   "metadata": {},
   "outputs": [],
   "source": [
    "# numpy data i/o"
   ]
  },
  {
   "cell_type": "code",
   "execution_count": null,
   "id": "handed-billion",
   "metadata": {},
   "outputs": [],
   "source": [
    "# loadtxt and save txt\n",
    "a=np.loadtxt('./test.txt')\n",
    "a[:10]"
   ]
  },
  {
   "cell_type": "code",
   "execution_count": null,
   "id": "statutory-undergraduate",
   "metadata": {},
   "outputs": [],
   "source": [
    "a_int=a.astype(int)\n",
    "a_int[:3]"
   ]
  },
  {
   "cell_type": "code",
   "execution_count": null,
   "id": "mexican-advice",
   "metadata": {},
   "outputs": [],
   "source": [
    "np.savetxt('int_data.csv',a_int,fmt=\"%.2e\",delimiter=',')"
   ]
  },
  {
   "cell_type": "code",
   "execution_count": null,
   "id": "arranged-festival",
   "metadata": {},
   "outputs": [],
   "source": [
    "# numpy object - npy\n",
    "np.save(\"npy_test_object\",arr=a_int)\n",
    "a_test=np.load(file=\"npy_test.npy\")\n",
    "npy_array=np.load(file=\"npy_test.npy\")"
   ]
  }
 ],
 "metadata": {
  "kernelspec": {
   "display_name": "Python 3",
   "language": "python",
   "name": "python3"
  },
  "language_info": {
   "codemirror_mode": {
    "name": "ipython",
    "version": 3
   },
   "file_extension": ".py",
   "mimetype": "text/x-python",
   "name": "python",
   "nbconvert_exporter": "python",
   "pygments_lexer": "ipython3",
   "version": "3.8.5"
  }
 },
 "nbformat": 4,
 "nbformat_minor": 5
}
